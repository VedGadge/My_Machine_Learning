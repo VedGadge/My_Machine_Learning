{
 "cells": [
  {
   "cell_type": "markdown",
   "metadata": {
    "id": "3DR-eO17geWu"
   },
   "source": [
    "# Convolutional Neural Network"
   ]
  },
  {
   "cell_type": "markdown",
   "metadata": {
    "id": "EMefrVPCg-60"
   },
   "source": [
    "### Importing the libraries\n"
   ]
  },
  {
   "cell_type": "code",
   "execution_count": null,
   "metadata": {},
   "outputs": [],
   "source": [
    "pip install --upgrade pip"
   ]
  },
  {
   "cell_type": "code",
   "execution_count": null,
   "metadata": {},
   "outputs": [],
   "source": [
    "pip install tensorflow"
   ]
  },
  {
   "cell_type": "code",
   "execution_count": 36,
   "metadata": {},
   "outputs": [],
   "source": [
    "import tensorflow as tf\n",
    "from keras.preprocessing.image import ImageDataGenerator"
   ]
  },
  {
   "cell_type": "code",
   "execution_count": 37,
   "metadata": {},
   "outputs": [
    {
     "data": {
      "text/plain": [
       "'2.11.0'"
      ]
     },
     "execution_count": 37,
     "metadata": {},
     "output_type": "execute_result"
    }
   ],
   "source": [
    "tf.__version__"
   ]
  },
  {
   "cell_type": "markdown",
   "metadata": {
    "id": "oxQxCBWyoGPE"
   },
   "source": [
    "## Part 1 - Data Preprocessing"
   ]
  },
  {
   "cell_type": "markdown",
   "metadata": {},
   "source": [
    "### Apply transformation on training set - to avoid overfitting\n",
    "### Preprocessing the Training set"
   ]
  },
  {
   "cell_type": "code",
   "execution_count": 38,
   "metadata": {
    "scrolled": true
   },
   "outputs": [
    {
     "name": "stdout",
     "output_type": "stream",
     "text": [
      "Found 8000 images belonging to 2 classes.\n"
     ]
    }
   ],
   "source": [
    "#Image augmentation\n",
    "train_datagen = ImageDataGenerator(\n",
    "        rescale=1./255,\n",
    "        shear_range=0.2,\n",
    "        zoom_range=0.2,\n",
    "        horizontal_flip=True)\n",
    "# rescale --> feature scaling pixel between 0 and 255 and applying this we get in 0 and 1\n",
    "\n",
    "training_set = train_datagen.flow_from_directory(\n",
    "        'dataset/dataset/training_set',\n",
    "        target_size=(64, 64),\n",
    "        batch_size=32,\n",
    "        class_mode='binary')"
   ]
  },
  {
   "cell_type": "markdown",
   "metadata": {},
   "source": [
    "### Preprocessing the Test set"
   ]
  },
  {
   "cell_type": "code",
   "execution_count": 39,
   "metadata": {},
   "outputs": [
    {
     "name": "stdout",
     "output_type": "stream",
     "text": [
      "Found 2000 images belonging to 2 classes.\n"
     ]
    }
   ],
   "source": [
    "#Just rescale the pixels, but do not apply any transformations\n",
    "test_datagen = ImageDataGenerator(rescale=1./255)\n",
    "\n",
    "test_set = test_datagen.flow_from_directory(\n",
    "        'dataset/dataset/test_set',\n",
    "        target_size=(64, 64),\n",
    "        batch_size=32,\n",
    "        class_mode='binary')"
   ]
  },
  {
   "cell_type": "markdown",
   "metadata": {
    "id": "af8O4l90gk7B"
   },
   "source": [
    "## Part 2 - Building the CNN"
   ]
  },
  {
   "cell_type": "markdown",
   "metadata": {
    "id": "ces1gXY2lmoX"
   },
   "source": [
    "### Initialising the CNN"
   ]
  },
  {
   "cell_type": "code",
   "execution_count": 40,
   "metadata": {},
   "outputs": [],
   "source": [
    "cnn = tf.keras.models.Sequential()"
   ]
  },
  {
   "cell_type": "markdown",
   "metadata": {
    "id": "u5YJj_XMl5LF"
   },
   "source": [
    "### Step 1 - Convolution"
   ]
  },
  {
   "cell_type": "code",
   "execution_count": 41,
   "metadata": {},
   "outputs": [],
   "source": [
    "cnn.add(tf.keras.layers.Conv2D(filters = 32, kernel_size = 3,activation = 'relu', input_shape = [64, 64, 3]))"
   ]
  },
  {
   "cell_type": "markdown",
   "metadata": {
    "id": "tf87FpvxmNOJ"
   },
   "source": [
    "### Step 2 - Pooling"
   ]
  },
  {
   "cell_type": "code",
   "execution_count": 42,
   "metadata": {},
   "outputs": [],
   "source": [
    "cnn.add(tf.keras.layers.MaxPooling2D(pool_size = 2, strides = 2))"
   ]
  },
  {
   "cell_type": "markdown",
   "metadata": {
    "id": "xaTOgD8rm4mU"
   },
   "source": [
    "### Adding a second convolutional layer"
   ]
  },
  {
   "cell_type": "code",
   "execution_count": 43,
   "metadata": {},
   "outputs": [],
   "source": [
    "cnn.add(tf.keras.layers.Conv2D(filters = 32, kernel_size = 3,activation = 'relu'))\n",
    "cnn.add(tf.keras.layers.MaxPooling2D(pool_size = 2, strides = 2))"
   ]
  },
  {
   "cell_type": "markdown",
   "metadata": {
    "id": "tmiEuvTunKfk"
   },
   "source": [
    "### Step 3 - Flattening"
   ]
  },
  {
   "cell_type": "code",
   "execution_count": 44,
   "metadata": {},
   "outputs": [],
   "source": [
    "cnn.add(tf.keras.layers.Flatten())"
   ]
  },
  {
   "cell_type": "markdown",
   "metadata": {
    "id": "dAoSECOm203v"
   },
   "source": [
    "### Step 4 - Full Connection"
   ]
  },
  {
   "cell_type": "code",
   "execution_count": 45,
   "metadata": {},
   "outputs": [],
   "source": [
    "cnn.add(tf.keras.layers.Dense(units = 128, activation = 'relu'))"
   ]
  },
  {
   "cell_type": "markdown",
   "metadata": {
    "id": "yTldFvbX28Na"
   },
   "source": [
    "### Step 5 - Output Layer"
   ]
  },
  {
   "cell_type": "code",
   "execution_count": 46,
   "metadata": {},
   "outputs": [],
   "source": [
    "cnn.add(tf.keras.layers.Dense(units = 1, activation = 'sigmoid'))"
   ]
  },
  {
   "cell_type": "markdown",
   "metadata": {
    "id": "D6XkI90snSDl"
   },
   "source": [
    "## Part 3 - Training the CNN"
   ]
  },
  {
   "cell_type": "markdown",
   "metadata": {
    "id": "vfrFQACEnc6i"
   },
   "source": [
    "### Compiling the CNN"
   ]
  },
  {
   "cell_type": "code",
   "execution_count": 47,
   "metadata": {},
   "outputs": [],
   "source": [
    "cnn.compile(optimizer = 'adam', loss = 'binary_crossentropy', metrics = ['accuracy'])"
   ]
  },
  {
   "cell_type": "markdown",
   "metadata": {
    "id": "ehS-v3MIpX2h"
   },
   "source": [
    "### Training the CNN on the Training set and evaluating it on the Test set"
   ]
  },
  {
   "cell_type": "code",
   "execution_count": 48,
   "metadata": {
    "scrolled": true
   },
   "outputs": [
    {
     "name": "stdout",
     "output_type": "stream",
     "text": [
      "Epoch 1/25\n",
      "250/250 [==============================] - 124s 491ms/step - loss: 0.6802 - accuracy: 0.5639 - val_loss: 0.6693 - val_accuracy: 0.6135\n",
      "Epoch 2/25\n",
      "250/250 [==============================] - 55s 218ms/step - loss: 0.6132 - accuracy: 0.6670 - val_loss: 0.5687 - val_accuracy: 0.7015\n",
      "Epoch 3/25\n",
      "250/250 [==============================] - 48s 193ms/step - loss: 0.5593 - accuracy: 0.7076 - val_loss: 0.5593 - val_accuracy: 0.7050\n",
      "Epoch 4/25\n",
      "250/250 [==============================] - 48s 192ms/step - loss: 0.5235 - accuracy: 0.7360 - val_loss: 0.5057 - val_accuracy: 0.7470\n",
      "Epoch 5/25\n",
      "250/250 [==============================] - 45s 181ms/step - loss: 0.5030 - accuracy: 0.7487 - val_loss: 0.4954 - val_accuracy: 0.7570\n",
      "Epoch 6/25\n",
      "250/250 [==============================] - 48s 192ms/step - loss: 0.4867 - accuracy: 0.7655 - val_loss: 0.4754 - val_accuracy: 0.7725\n",
      "Epoch 7/25\n",
      "250/250 [==============================] - 48s 190ms/step - loss: 0.4640 - accuracy: 0.7774 - val_loss: 0.5031 - val_accuracy: 0.7665\n",
      "Epoch 8/25\n",
      "250/250 [==============================] - 45s 179ms/step - loss: 0.4455 - accuracy: 0.7883 - val_loss: 0.4777 - val_accuracy: 0.7795\n",
      "Epoch 9/25\n",
      "250/250 [==============================] - 55s 219ms/step - loss: 0.4307 - accuracy: 0.8001 - val_loss: 0.4795 - val_accuracy: 0.7735\n",
      "Epoch 10/25\n",
      "250/250 [==============================] - 52s 207ms/step - loss: 0.4180 - accuracy: 0.8040 - val_loss: 0.4629 - val_accuracy: 0.7875\n",
      "Epoch 11/25\n",
      "250/250 [==============================] - 44s 175ms/step - loss: 0.4152 - accuracy: 0.8048 - val_loss: 0.4734 - val_accuracy: 0.7810\n",
      "Epoch 12/25\n",
      "250/250 [==============================] - 45s 181ms/step - loss: 0.3916 - accuracy: 0.8183 - val_loss: 0.4897 - val_accuracy: 0.7805\n",
      "Epoch 13/25\n",
      "250/250 [==============================] - 44s 177ms/step - loss: 0.3869 - accuracy: 0.8251 - val_loss: 0.4987 - val_accuracy: 0.7730\n",
      "Epoch 14/25\n",
      "250/250 [==============================] - 49s 197ms/step - loss: 0.3738 - accuracy: 0.8325 - val_loss: 0.5030 - val_accuracy: 0.7830\n",
      "Epoch 15/25\n",
      "250/250 [==============================] - 49s 197ms/step - loss: 0.3661 - accuracy: 0.8344 - val_loss: 0.4772 - val_accuracy: 0.7880\n",
      "Epoch 16/25\n",
      "250/250 [==============================] - 49s 194ms/step - loss: 0.3502 - accuracy: 0.8415 - val_loss: 0.4573 - val_accuracy: 0.8060\n",
      "Epoch 17/25\n",
      "250/250 [==============================] - 47s 187ms/step - loss: 0.3414 - accuracy: 0.8461 - val_loss: 0.4522 - val_accuracy: 0.8000\n",
      "Epoch 18/25\n",
      "250/250 [==============================] - 47s 186ms/step - loss: 0.3332 - accuracy: 0.8530 - val_loss: 0.5127 - val_accuracy: 0.7965\n",
      "Epoch 19/25\n",
      "250/250 [==============================] - 48s 192ms/step - loss: 0.3294 - accuracy: 0.8579 - val_loss: 0.4685 - val_accuracy: 0.8040\n",
      "Epoch 20/25\n",
      "250/250 [==============================] - 50s 199ms/step - loss: 0.3148 - accuracy: 0.8608 - val_loss: 0.4767 - val_accuracy: 0.8050\n",
      "Epoch 21/25\n",
      "250/250 [==============================] - 46s 185ms/step - loss: 0.2984 - accuracy: 0.8711 - val_loss: 0.5453 - val_accuracy: 0.7865\n",
      "Epoch 22/25\n",
      "250/250 [==============================] - 49s 195ms/step - loss: 0.2904 - accuracy: 0.8724 - val_loss: 0.5085 - val_accuracy: 0.7955\n",
      "Epoch 23/25\n",
      "250/250 [==============================] - 47s 190ms/step - loss: 0.2870 - accuracy: 0.8749 - val_loss: 0.5148 - val_accuracy: 0.7915\n",
      "Epoch 24/25\n",
      "250/250 [==============================] - 48s 192ms/step - loss: 0.2766 - accuracy: 0.8824 - val_loss: 0.4983 - val_accuracy: 0.8010\n",
      "Epoch 25/25\n",
      "250/250 [==============================] - 45s 180ms/step - loss: 0.2735 - accuracy: 0.8804 - val_loss: 0.5322 - val_accuracy: 0.7965\n"
     ]
    },
    {
     "data": {
      "text/plain": [
       "<keras.callbacks.History at 0x1baf4957520>"
      ]
     },
     "execution_count": 48,
     "metadata": {},
     "output_type": "execute_result"
    }
   ],
   "source": [
    "cnn.fit(x = training_set, validation_data = test_set, epochs = 25)"
   ]
  },
  {
   "cell_type": "markdown",
   "metadata": {
    "id": "U3PZasO0006Z"
   },
   "source": [
    "## Part 4 - Making a single prediction"
   ]
  },
  {
   "cell_type": "code",
   "execution_count": 62,
   "metadata": {},
   "outputs": [
    {
     "name": "stdout",
     "output_type": "stream",
     "text": [
      "1/1 [==============================] - 0s 23ms/step\n"
     ]
    }
   ],
   "source": [
    "import numpy as np\n",
    "import keras.utils as image\n",
    "test_image = image.load_img('dataset/dataset/single_prediction/cat_or_dog_1.jpg', target_size = (64, 64))\n",
    "test_image = image.img_to_array(test_image)\n",
    "test_image = np.expand_dims(test_image, axis = 0)\n",
    "result = cnn.predict(test_image)\n",
    "training_set.class_indices\n",
    "if result[0][0] == 1:\n",
    "    prediction = 'dog'\n",
    "else:\n",
    "    prediction = 'cat'"
   ]
  },
  {
   "cell_type": "code",
   "execution_count": 63,
   "metadata": {},
   "outputs": [
    {
     "name": "stdout",
     "output_type": "stream",
     "text": [
      "dog\n"
     ]
    }
   ],
   "source": [
    "print(prediction)"
   ]
  }
 ],
 "metadata": {
  "colab": {
   "provenance": [],
   "toc_visible": true
  },
  "kernelspec": {
   "display_name": "Python 3 (ipykernel)",
   "language": "python",
   "name": "python3"
  },
  "language_info": {
   "codemirror_mode": {
    "name": "ipython",
    "version": 3
   },
   "file_extension": ".py",
   "mimetype": "text/x-python",
   "name": "python",
   "nbconvert_exporter": "python",
   "pygments_lexer": "ipython3",
   "version": "3.9.7"
  }
 },
 "nbformat": 4,
 "nbformat_minor": 1
}
